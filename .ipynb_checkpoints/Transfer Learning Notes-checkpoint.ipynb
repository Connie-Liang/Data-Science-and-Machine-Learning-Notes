{
 "cells": [
  {
   "cell_type": "markdown",
   "metadata": {},
   "source": [
    "# Transfer Learning"
   ]
  },
  {
   "cell_type": "code",
   "execution_count": 2,
   "metadata": {},
   "outputs": [],
   "source": [
    "import tensorflow as tf\n",
    "from tensorflow import keras\n",
    "from tensorflow.keras import layers\n",
    "from tensorflow.keras.preprocessing.image import ImageDataGenerator, array_to_img, img_to_array\n",
    "\n",
    "import os\n",
    "import matplotlib\n",
    "from matplotlib import pyplot as plt\n",
    "import numpy as np\n",
    "import pandas as pd\n",
    "\n",
    "matplotlib.style.use('ggplot')\n",
    "%matplotlib inline"
   ]
  },
  {
   "cell_type": "markdown",
   "metadata": {},
   "source": [
    "- Transfer Learning is really powerful and can be used for neural networks in terms of \"borrowing\" pretrained neural networks or weights to build off existing knowledge. \"Situation where what has been learned in one setting is exploited to improve generalization in another setting\". \n",
    "\n",
    "\n",
    "- For example, knowledge gained while learning to recognize cars could apply when trying to recognize trucks\n",
    "\n",
    "\n",
    "- \"After supervised learning, transfer learning will be the next driver of ML commercial success\" - Andrew Ng\n",
    "\n",
    "\n",
    "- \"the key motivation...is the fact that most models which solve complex problems need a whole lot of data, and getting vast amounts of labeled data for supervised models can be really difficult, considering the time and effort it takes to label data points.\" -Dipanjan Sarkar\n",
    "    \n",
    "    - transfer learning is particularly useful if you don't have a lot of data\n"
   ]
  },
  {
   "cell_type": "markdown",
   "metadata": {},
   "source": [
    "# Applying Transfer Learning"
   ]
  },
  {
   "cell_type": "markdown",
   "metadata": {},
   "source": [
    "- for neural networks, TL will either mean \n",
    "    - training your architecture and weights on one thing and then transferring those weights and architecture to your specific problem, or \n",
    "    - using a pre-made architecture that has already been trained on a massive dataset (ex: ImageNet) to extract features and then use those features in another ML model training your data, or let the weights change for your specific data"
   ]
  },
  {
   "cell_type": "code",
   "execution_count": null,
   "metadata": {},
   "outputs": [],
   "source": [
    "4:41"
   ]
  }
 ],
 "metadata": {
  "kernelspec": {
   "display_name": "Python 3",
   "language": "python",
   "name": "python3"
  },
  "language_info": {
   "codemirror_mode": {
    "name": "ipython",
    "version": 3
   },
   "file_extension": ".py",
   "mimetype": "text/x-python",
   "name": "python",
   "nbconvert_exporter": "python",
   "pygments_lexer": "ipython3",
   "version": "3.7.6"
  }
 },
 "nbformat": 4,
 "nbformat_minor": 4
}
